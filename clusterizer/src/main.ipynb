{
 "cells": [
  {
   "cell_type": "code",
   "execution_count": 6,
   "metadata": {},
   "outputs": [],
   "source": [
    "import requests\n",
    "import pandas as pd\n",
    "import numpy as np"
   ]
  },
  {
   "cell_type": "code",
   "execution_count": 2,
   "metadata": {},
   "outputs": [],
   "source": [
    "response = requests.get(\"http://localhost:4000/logs\")"
   ]
  },
  {
   "cell_type": "code",
   "execution_count": 5,
   "metadata": {},
   "outputs": [
    {
     "data": {
      "text/plain": [
       "{'_id': '5f63cccdffab870010e965e6',\n",
       " 'container_id': '8f68df36177d19a2b141226b497ec6f6ee5b190249d5267ff39a64d35457cb36',\n",
       " 'container_name': '/docker-compose_front-end_1',\n",
       " 'source': 'stderr',\n",
       " 'log': 'npm info it worked if it ends with ok',\n",
       " 'time': 'Thu Sep 17 2020 20:53:22 GMT+0000 (Coordinated Universal Time)'}"
      ]
     },
     "execution_count": 5,
     "metadata": {},
     "output_type": "execute_result"
    }
   ],
   "source": [
    "response.json()[1]"
   ]
  },
  {
   "cell_type": "code",
   "execution_count": 7,
   "metadata": {},
   "outputs": [],
   "source": [
    "df = pd.DataFrame(response.json())"
   ]
  },
  {
   "cell_type": "code",
   "execution_count": 8,
   "metadata": {},
   "outputs": [
    {
     "data": {
      "text/html": [
       "<div>\n",
       "<style scoped>\n",
       "    .dataframe tbody tr th:only-of-type {\n",
       "        vertical-align: middle;\n",
       "    }\n",
       "\n",
       "    .dataframe tbody tr th {\n",
       "        vertical-align: top;\n",
       "    }\n",
       "\n",
       "    .dataframe thead th {\n",
       "        text-align: right;\n",
       "    }\n",
       "</style>\n",
       "<table border=\"1\" class=\"dataframe\">\n",
       "  <thead>\n",
       "    <tr style=\"text-align: right;\">\n",
       "      <th></th>\n",
       "      <th>_id</th>\n",
       "      <th>container_name</th>\n",
       "      <th>source</th>\n",
       "      <th>log</th>\n",
       "      <th>container_id</th>\n",
       "      <th>time</th>\n",
       "    </tr>\n",
       "  </thead>\n",
       "  <tbody>\n",
       "    <tr>\n",
       "      <th>count</th>\n",
       "      <td>671</td>\n",
       "      <td>671</td>\n",
       "      <td>671</td>\n",
       "      <td>671</td>\n",
       "      <td>671</td>\n",
       "      <td>671</td>\n",
       "    </tr>\n",
       "    <tr>\n",
       "      <th>unique</th>\n",
       "      <td>671</td>\n",
       "      <td>2</td>\n",
       "      <td>2</td>\n",
       "      <td>238</td>\n",
       "      <td>2</td>\n",
       "      <td>11</td>\n",
       "    </tr>\n",
       "    <tr>\n",
       "      <th>top</th>\n",
       "      <td>5f63cd08ffab870010e96755</td>\n",
       "      <td>/docker-compose_front-end_1</td>\n",
       "      <td>stdout</td>\n",
       "      <td></td>\n",
       "      <td>8f68df36177d19a2b141226b497ec6f6ee5b190249d526...</td>\n",
       "      <td>Thu Sep 17 2020 20:54:27 GMT+0000 (Coordinated...</td>\n",
       "    </tr>\n",
       "    <tr>\n",
       "      <th>freq</th>\n",
       "      <td>1</td>\n",
       "      <td>648</td>\n",
       "      <td>640</td>\n",
       "      <td>48</td>\n",
       "      <td>648</td>\n",
       "      <td>178</td>\n",
       "    </tr>\n",
       "  </tbody>\n",
       "</table>\n",
       "</div>"
      ],
      "text/plain": [
       "                             _id               container_name  source  log  \\\n",
       "count                        671                          671     671  671   \n",
       "unique                       671                            2       2  238   \n",
       "top     5f63cd08ffab870010e96755  /docker-compose_front-end_1  stdout        \n",
       "freq                           1                          648     640   48   \n",
       "\n",
       "                                             container_id  \\\n",
       "count                                                 671   \n",
       "unique                                                  2   \n",
       "top     8f68df36177d19a2b141226b497ec6f6ee5b190249d526...   \n",
       "freq                                                  648   \n",
       "\n",
       "                                                     time  \n",
       "count                                                 671  \n",
       "unique                                                 11  \n",
       "top     Thu Sep 17 2020 20:54:27 GMT+0000 (Coordinated...  \n",
       "freq                                                  178  "
      ]
     },
     "execution_count": 8,
     "metadata": {},
     "output_type": "execute_result"
    }
   ],
   "source": [
    "df.describe()"
   ]
  },
  {
   "cell_type": "code",
   "execution_count": 9,
   "metadata": {},
   "outputs": [
    {
     "name": "stdout",
     "output_type": "stream",
     "text": [
      "<class 'pandas.core.frame.DataFrame'>\n",
      "RangeIndex: 671 entries, 0 to 670\n",
      "Data columns (total 6 columns):\n",
      "_id               671 non-null object\n",
      "container_name    671 non-null object\n",
      "source            671 non-null object\n",
      "log               671 non-null object\n",
      "container_id      671 non-null object\n",
      "time              671 non-null object\n",
      "dtypes: object(6)\n",
      "memory usage: 31.6+ KB\n"
     ]
    }
   ],
   "source": [
    "df.info()"
   ]
  },
  {
   "cell_type": "code",
   "execution_count": null,
   "metadata": {},
   "outputs": [],
   "source": []
  }
 ],
 "metadata": {
  "kernelspec": {
   "display_name": "Python 3",
   "language": "python",
   "name": "python3"
  },
  "language_info": {
   "codemirror_mode": {
    "name": "ipython",
    "version": 3
   },
   "file_extension": ".py",
   "mimetype": "text/x-python",
   "name": "python",
   "nbconvert_exporter": "python",
   "pygments_lexer": "ipython3",
   "version": "3.7.6"
  }
 },
 "nbformat": 4,
 "nbformat_minor": 4
}
