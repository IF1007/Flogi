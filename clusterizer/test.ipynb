{
 "cells": [
  {
   "cell_type": "code",
   "execution_count": 1,
   "metadata": {},
   "outputs": [],
   "source": [
    "import pyspark"
   ]
  },
  {
   "cell_type": "code",
   "execution_count": null,
   "metadata": {},
   "outputs": [],
   "source": [
    "spark = pyspark.sql.SparkSession.builder\\\n",
    "    .appName('hogwarts')\\\n",
    "    .getOrCreate()\n",
    "\n",
    "characters = [\n",
    "    (\"Albus Dumbledore\", 150),\n",
    "    (\"Minerva McGonagall\", 70),\n",
    "    (\"Rubeus Hagrid\", 63),\n",
    "    (\"Oliver Wood\", 18),\n",
    "    (\"Harry Potter\", 12),\n",
    "    (\"Ron Weasley\", 12),\n",
    "    (\"Hermione\", 13),\n",
    "    (\"Draco Malfoy\", None)\n",
    "]\n",
    "\n",
    "c_df = spark.createDataFrame(characters, [\"name\", \"age\"])    \n",
    "\n",
    "c_df.show()"
   ]
  },
  {
   "cell_type": "code",
   "execution_count": 2,
   "metadata": {},
   "outputs": [],
   "source": [
    "spark2 = pyspark.sql.SparkSession.\\\n",
    "        builder.\\\n",
    "        appName(\"pyspark-notebook\").\\\n",
    "        master(\"spark://spark-master:7077\").\\\n",
    "        config(\"spark.executor.memory\", \"512m\").\\\n",
    "        getOrCreate()"
   ]
  },
  {
   "cell_type": "code",
   "execution_count": null,
   "metadata": {},
   "outputs": [],
   "source": [
    "!pip install wget"
   ]
  },
  {
   "cell_type": "code",
   "execution_count": null,
   "metadata": {},
   "outputs": [],
   "source": [
    "import wget\n",
    "\n",
    "url = \"https://archive.ics.uci.edu/ml/machine-learning-databases/iris/iris.data\"\n",
    "wget.download(url)"
   ]
  },
  {
   "cell_type": "code",
   "execution_count": null,
   "metadata": {},
   "outputs": [],
   "source": [
    "characters = [\n",
    "    (\"Albus Dumbledore\", 150),\n",
    "    (\"Minerva McGonagall\", 70),\n",
    "    (\"Rubeus Hagrid\", 63),\n",
    "    (\"Oliver Wood\", 18),\n",
    "    (\"Harry Potter\", 12),\n",
    "    (\"Ron Weasley\", 12),\n",
    "    (\"Hermione\", 13),\n",
    "    (\"Draco Malfoy\", None)\n",
    "]\n",
    "\n",
    "c_df = spark2.createDataFrame(characters, [\"name\", \"age\"])    \n",
    "\n",
    "c_df.show()"
   ]
  },
  {
   "cell_type": "code",
   "execution_count": null,
   "metadata": {},
   "outputs": [],
   "source": [
    "data = spark2.read.csv(\"./iris.csv\")"
   ]
  },
  {
   "cell_type": "code",
   "execution_count": null,
   "metadata": {},
   "outputs": [],
   "source": [
    "data.show(n=5)"
   ]
  },
  {
   "cell_type": "code",
   "execution_count": null,
   "metadata": {},
   "outputs": [],
   "source": [
    "es_reader = (spark2.read\n",
    "    .format(\"org.elasticsearch.spark.sql\")\n",
    "    .option(\"inferSchema\", \"true\")\n",
    "    .option(\"es.read.field.as.array.include\", \"tags\")\n",
    "    .option(\"es.nodes\",\"elasticsearch:9200\")\n",
    ")"
   ]
  },
  {
   "cell_type": "code",
   "execution_count": null,
   "metadata": {},
   "outputs": [],
   "source": [
    "metrics = es_reader.load(\"metricbeat-*/\")"
   ]
  },
  {
   "cell_type": "code",
   "execution_count": 3,
   "metadata": {},
   "outputs": [
    {
     "name": "stdout",
     "output_type": "stream",
     "text": [
      "Collecting elasticsearch\n",
      "  Downloading elasticsearch-7.9.1-py2.py3-none-any.whl (219 kB)\n",
      "\u001b[K     |████████████████████████████████| 219 kB 691 kB/s eta 0:00:01\n",
      "\u001b[?25hCollecting urllib3>=1.21.1\n",
      "  Downloading urllib3-1.25.10-py2.py3-none-any.whl (127 kB)\n",
      "\u001b[K     |████████████████████████████████| 127 kB 10.2 MB/s eta 0:00:01\n",
      "\u001b[?25hRequirement already satisfied: certifi in /opt/conda/envs/python36/lib/python3.6/site-packages (from elasticsearch) (2020.6.20)\n",
      "Installing collected packages: urllib3, elasticsearch\n",
      "Successfully installed elasticsearch-7.9.1 urllib3-1.25.10\n"
     ]
    }
   ],
   "source": [
    "!pip install elasticsearch"
   ]
  },
  {
   "cell_type": "code",
   "execution_count": 3,
   "metadata": {},
   "outputs": [],
   "source": [
    "from elasticsearch import Elasticsearch"
   ]
  },
  {
   "cell_type": "code",
   "execution_count": 4,
   "metadata": {},
   "outputs": [],
   "source": [
    "es = Elasticsearch(['elasticsearch:9200'])"
   ]
  },
  {
   "cell_type": "code",
   "execution_count": 6,
   "metadata": {},
   "outputs": [],
   "source": [
    "fluentdIndex = list(es.indices.get_alias(\"fluentd-*\").keys())[0]"
   ]
  },
  {
   "cell_type": "code",
   "execution_count": 7,
   "metadata": {},
   "outputs": [],
   "source": [
    "# Pega os n ultimos documentos\n",
    "n = 10\n",
    "body = {\n",
    "  \"query\": {\n",
    "    \"match_all\": {}\n",
    "  },\n",
    "  \"size\": n,\n",
    "  \"sort\": [\n",
    "    {\n",
    "      \"@timestamp\": {\n",
    "        \"order\": \"desc\"\n",
    "      }\n",
    "    }\n",
    "  ]\n",
    "}\n",
    "\n",
    "\n",
    "response = es.search(index=fluentdIndex, body=body)"
   ]
  },
  {
   "cell_type": "code",
   "execution_count": 8,
   "metadata": {},
   "outputs": [
    {
     "name": "stdout",
     "output_type": "stream",
     "text": [
      "total\n",
      "{'value': 686, 'relation': 'eq'}\n",
      "max_score\n",
      "None\n",
      "hits\n",
      "[{'_index': 'fluentd-20201003', '_type': '_doc', '_id': 'kYSM7nQB3NEpW_zy8iSq', '_score': None, '_source': {'log': '\\x1b[0mGET /catalogue \\x1b[32m200 \\x1b[0m4.289 ms - -\\x1b[0m', 'container_id': '92f933aba41419fdee04312065e7dea182f5febb906aed335d7aa2d01539cb04', 'container_name': '/docker-compose_front-end_1', 'source': 'stdout', '@timestamp': '2020-10-03T13:00:48.000000000+00:00', '@log_name': 'docker.92f933aba414'}, 'sort': [1601730048000]}, {'_index': 'fluentd-20201003', '_type': '_doc', '_id': 'koSM7nQB3NEpW_zy8iSq', '_score': None, '_source': {'log': 'Order response: {\"statusCode\":201,\"body\":{\"id\":\"5f787600c4147900078921ab\",\"customerId\":\"57a98d98e4b00679b4a830b2\",\"customer\":{\"id\":null,\"firstName\":\"User\",\"lastName\":\"Name\",\"username\":\"user\",\"addresses\":[],\"cards\":[]},\"address\":{\"id\":null,\"number\":\"246\",\"street\":\"Whitelees Road\",\"city\":\"Glasgow\",\"postcode\":\"G67 3DL\",\"country\":\"United Kingdom\"},\"card\":{\"id\":null,\"longNum\":\"5544154011345918\",\"expires\":\"08/19\",\"ccv\":\"958\"},\"items\":[{\"id\":\"5f7875ff471afa0006a1efde\",\"itemId\":\"zzz4f044-b040-410d-8ead-4de0446aec7e\",\"quantity\":1,\"unitPrice\":12}],\"shipment\":{\"id\":\"b35d9794-0700-4a79-b91b-e4f3a023eb71\",\"name\":\"57a98d98e4b00679b4a830b2\"},\"date\":\"2020-10-03T13:00:48.018+0000\",\"total\":16.99},\"headers\":{\"x-application-context\":\"orders:80\",\"content-type\":\"application/json;charset=UTF-8\",\"transfer-encoding\":\"chunked\",\"date\":\"Sat, 03 Oct 2020 13:00:47 GMT\",\"connection\":\"close\"},\"request\":{\"uri\":{\"protocol\":\"http:\",\"slashes\":true,\"auth\":null,\"host\":\"orders\",\"port\":80,\"hostname\":\"orders\",\"hash\":null,\"search\":null,\"query\":null,\"pathname\":\"/orders\",\"path\":\"/orders\",\"href\":\"http://orders/orders\"},\"method\":\"POST\",\"headers\":{\"accept\":\"application/json\",\"content-type\":\"application/json\",\"content-length\":232}}}', 'container_id': '92f933aba41419fdee04312065e7dea182f5febb906aed335d7aa2d01539cb04', 'container_name': '/docker-compose_front-end_1', 'source': 'stdout', '@timestamp': '2020-10-03T13:00:48.000000000+00:00', '@log_name': 'docker.92f933aba414'}, 'sort': [1601730048000]}, {'_index': 'fluentd-20201003', '_type': '_doc', '_id': 'k4SM7nQB3NEpW_zy8iSq', '_score': None, '_source': {'container_name': '/docker-compose_front-end_1', 'source': 'stdout', 'log': 'Order response: {\"id\":\"5f787600c4147900078921ab\",\"customerId\":\"57a98d98e4b00679b4a830b2\",\"customer\":{\"id\":null,\"firstName\":\"User\",\"lastName\":\"Name\",\"username\":\"user\",\"addresses\":[],\"cards\":[]},\"address\":{\"id\":null,\"number\":\"246\",\"street\":\"Whitelees Road\",\"city\":\"Glasgow\",\"postcode\":\"G67 3DL\",\"country\":\"United Kingdom\"},\"card\":{\"id\":null,\"longNum\":\"5544154011345918\",\"expires\":\"08/19\",\"ccv\":\"958\"},\"items\":[{\"id\":\"5f7875ff471afa0006a1efde\",\"itemId\":\"zzz4f044-b040-410d-8ead-4de0446aec7e\",\"quantity\":1,\"unitPrice\":12}],\"shipment\":{\"id\":\"b35d9794-0700-4a79-b91b-e4f3a023eb71\",\"name\":\"57a98d98e4b00679b4a830b2\"},\"date\":\"2020-10-03T13:00:48.018+0000\",\"total\":16.99}', 'container_id': '92f933aba41419fdee04312065e7dea182f5febb906aed335d7aa2d01539cb04', '@timestamp': '2020-10-03T13:00:48.000000000+00:00', '@log_name': 'docker.92f933aba414'}, 'sort': [1601730048000]}, {'_index': 'fluentd-20201003', '_type': '_doc', '_id': 'lISM7nQB3NEpW_zy8iSq', '_score': None, '_source': {'container_id': '92f933aba41419fdee04312065e7dea182f5febb906aed335d7aa2d01539cb04', 'container_name': '/docker-compose_front-end_1', 'source': 'stdout', 'log': '\\x1b[0mPOST /orders \\x1b[32m201 \\x1b[0m48.628 ms - -\\x1b[0m', '@timestamp': '2020-10-03T13:00:48.000000000+00:00', '@log_name': 'docker.92f933aba414'}, 'sort': [1601730048000]}, {'_index': 'fluentd-20201003', '_type': '_doc', '_id': 'lYSM7nQB3NEpW_zy8iSq', '_score': None, '_source': {'container_id': '92f933aba41419fdee04312065e7dea182f5febb906aed335d7aa2d01539cb04', 'container_name': '/docker-compose_front-end_1', 'source': 'stdout', 'log': 'Received login request', '@timestamp': '2020-10-03T13:00:48.000000000+00:00', '@log_name': 'docker.92f933aba414'}, 'sort': [1601730048000]}, {'_index': 'fluentd-20201003', '_type': '_doc', '_id': 'loSM7nQB3NEpW_zy8iSq', '_score': None, '_source': {'container_id': '92f933aba41419fdee04312065e7dea182f5febb906aed335d7aa2d01539cb04', 'container_name': '/docker-compose_front-end_1', 'source': 'stdout', 'log': '{\"user\":{\"firstName\":\"User\",\"lastName\":\"Name\",\"username\":\"user\",\"id\":\"57a98d98e4b00679b4a830b2\",\"_links\":{\"addresses\":{\"href\":\"http://user/customers/57a98d98e4b00679b4a830b2/addresses\"},\"cards\":{\"href\":\"http://user/customers/57a98d98e4b00679b4a830b2/cards\"},\"customer\":{\"href\":\"http://user/customers/57a98d98e4b00679b4a830b2\"},\"self\":{\"href\":\"http://user/customers/57a98d98e4b00679b4a830b2\"}}}}', '@timestamp': '2020-10-03T13:00:48.000000000+00:00', '@log_name': 'docker.92f933aba414'}, 'sort': [1601730048000]}, {'_index': 'fluentd-20201003', '_type': '_doc', '_id': 'l4SM7nQB3NEpW_zy8iSq', '_score': None, '_source': {'container_id': '92f933aba41419fdee04312065e7dea182f5febb906aed335d7aa2d01539cb04', 'container_name': '/docker-compose_front-end_1', 'source': 'stdout', 'log': '', '@timestamp': '2020-10-03T13:00:48.000000000+00:00', '@log_name': 'docker.92f933aba414'}, 'sort': [1601730048000]}, {'_index': 'fluentd-20201003', '_type': '_doc', '_id': 'mISM7nQB3NEpW_zy8iSq', '_score': None, '_source': {'source': 'stdout', 'log': '57a98d98e4b00679b4a830b2', 'container_id': '92f933aba41419fdee04312065e7dea182f5febb906aed335d7aa2d01539cb04', 'container_name': '/docker-compose_front-end_1', '@timestamp': '2020-10-03T13:00:48.000000000+00:00', '@log_name': 'docker.92f933aba414'}, 'sort': [1601730048000]}, {'_index': 'fluentd-20201003', '_type': '_doc', '_id': 'mYSM7nQB3NEpW_zy8iSq', '_score': None, '_source': {'container_id': '92f933aba41419fdee04312065e7dea182f5febb906aed335d7aa2d01539cb04', 'container_name': '/docker-compose_front-end_1', 'source': 'stdout', 'log': 'Merging carts for customer id: 57a98d98e4b00679b4a830b2 and session id: H__46Xjdoeh4bTSRNwq-5DkmWKt0QPf8', '@timestamp': '2020-10-03T13:00:48.000000000+00:00', '@log_name': 'docker.92f933aba414'}, 'sort': [1601730048000]}, {'_index': 'fluentd-20201003', '_type': '_doc', '_id': 'moSM7nQB3NEpW_zy8iSq', '_score': None, '_source': {'container_id': '92f933aba41419fdee04312065e7dea182f5febb906aed335d7aa2d01539cb04', 'container_name': '/docker-compose_front-end_1', 'source': 'stdout', 'log': 'Carts merged.', '@timestamp': '2020-10-03T13:00:48.000000000+00:00', '@log_name': 'docker.92f933aba414'}, 'sort': [1601730048000]}]\n"
     ]
    }
   ],
   "source": [
    "for key, val in response[\"hits\"].items():\n",
    "    print(key)\n",
    "    print(val)"
   ]
  },
  {
   "cell_type": "code",
   "execution_count": 13,
   "metadata": {},
   "outputs": [
    {
     "data": {
      "text/plain": [
       "[{'_index': 'fluentd-20201003',\n",
       "  '_type': '_doc',\n",
       "  '_id': 'kYSM7nQB3NEpW_zy8iSq',\n",
       "  '_score': None,\n",
       "  '_source': {'log': '\\x1b[0mGET /catalogue \\x1b[32m200 \\x1b[0m4.289 ms - -\\x1b[0m',\n",
       "   'container_id': '92f933aba41419fdee04312065e7dea182f5febb906aed335d7aa2d01539cb04',\n",
       "   'container_name': '/docker-compose_front-end_1',\n",
       "   'source': 'stdout',\n",
       "   '@timestamp': '2020-10-03T13:00:48.000000000+00:00',\n",
       "   '@log_name': 'docker.92f933aba414'},\n",
       "  'sort': [1601730048000]},\n",
       " {'_index': 'fluentd-20201003',\n",
       "  '_type': '_doc',\n",
       "  '_id': 'koSM7nQB3NEpW_zy8iSq',\n",
       "  '_score': None,\n",
       "  '_source': {'log': 'Order response: {\"statusCode\":201,\"body\":{\"id\":\"5f787600c4147900078921ab\",\"customerId\":\"57a98d98e4b00679b4a830b2\",\"customer\":{\"id\":null,\"firstName\":\"User\",\"lastName\":\"Name\",\"username\":\"user\",\"addresses\":[],\"cards\":[]},\"address\":{\"id\":null,\"number\":\"246\",\"street\":\"Whitelees Road\",\"city\":\"Glasgow\",\"postcode\":\"G67 3DL\",\"country\":\"United Kingdom\"},\"card\":{\"id\":null,\"longNum\":\"5544154011345918\",\"expires\":\"08/19\",\"ccv\":\"958\"},\"items\":[{\"id\":\"5f7875ff471afa0006a1efde\",\"itemId\":\"zzz4f044-b040-410d-8ead-4de0446aec7e\",\"quantity\":1,\"unitPrice\":12}],\"shipment\":{\"id\":\"b35d9794-0700-4a79-b91b-e4f3a023eb71\",\"name\":\"57a98d98e4b00679b4a830b2\"},\"date\":\"2020-10-03T13:00:48.018+0000\",\"total\":16.99},\"headers\":{\"x-application-context\":\"orders:80\",\"content-type\":\"application/json;charset=UTF-8\",\"transfer-encoding\":\"chunked\",\"date\":\"Sat, 03 Oct 2020 13:00:47 GMT\",\"connection\":\"close\"},\"request\":{\"uri\":{\"protocol\":\"http:\",\"slashes\":true,\"auth\":null,\"host\":\"orders\",\"port\":80,\"hostname\":\"orders\",\"hash\":null,\"search\":null,\"query\":null,\"pathname\":\"/orders\",\"path\":\"/orders\",\"href\":\"http://orders/orders\"},\"method\":\"POST\",\"headers\":{\"accept\":\"application/json\",\"content-type\":\"application/json\",\"content-length\":232}}}',\n",
       "   'container_id': '92f933aba41419fdee04312065e7dea182f5febb906aed335d7aa2d01539cb04',\n",
       "   'container_name': '/docker-compose_front-end_1',\n",
       "   'source': 'stdout',\n",
       "   '@timestamp': '2020-10-03T13:00:48.000000000+00:00',\n",
       "   '@log_name': 'docker.92f933aba414'},\n",
       "  'sort': [1601730048000]},\n",
       " {'_index': 'fluentd-20201003',\n",
       "  '_type': '_doc',\n",
       "  '_id': 'k4SM7nQB3NEpW_zy8iSq',\n",
       "  '_score': None,\n",
       "  '_source': {'container_name': '/docker-compose_front-end_1',\n",
       "   'source': 'stdout',\n",
       "   'log': 'Order response: {\"id\":\"5f787600c4147900078921ab\",\"customerId\":\"57a98d98e4b00679b4a830b2\",\"customer\":{\"id\":null,\"firstName\":\"User\",\"lastName\":\"Name\",\"username\":\"user\",\"addresses\":[],\"cards\":[]},\"address\":{\"id\":null,\"number\":\"246\",\"street\":\"Whitelees Road\",\"city\":\"Glasgow\",\"postcode\":\"G67 3DL\",\"country\":\"United Kingdom\"},\"card\":{\"id\":null,\"longNum\":\"5544154011345918\",\"expires\":\"08/19\",\"ccv\":\"958\"},\"items\":[{\"id\":\"5f7875ff471afa0006a1efde\",\"itemId\":\"zzz4f044-b040-410d-8ead-4de0446aec7e\",\"quantity\":1,\"unitPrice\":12}],\"shipment\":{\"id\":\"b35d9794-0700-4a79-b91b-e4f3a023eb71\",\"name\":\"57a98d98e4b00679b4a830b2\"},\"date\":\"2020-10-03T13:00:48.018+0000\",\"total\":16.99}',\n",
       "   'container_id': '92f933aba41419fdee04312065e7dea182f5febb906aed335d7aa2d01539cb04',\n",
       "   '@timestamp': '2020-10-03T13:00:48.000000000+00:00',\n",
       "   '@log_name': 'docker.92f933aba414'},\n",
       "  'sort': [1601730048000]},\n",
       " {'_index': 'fluentd-20201003',\n",
       "  '_type': '_doc',\n",
       "  '_id': 'lISM7nQB3NEpW_zy8iSq',\n",
       "  '_score': None,\n",
       "  '_source': {'container_id': '92f933aba41419fdee04312065e7dea182f5febb906aed335d7aa2d01539cb04',\n",
       "   'container_name': '/docker-compose_front-end_1',\n",
       "   'source': 'stdout',\n",
       "   'log': '\\x1b[0mPOST /orders \\x1b[32m201 \\x1b[0m48.628 ms - -\\x1b[0m',\n",
       "   '@timestamp': '2020-10-03T13:00:48.000000000+00:00',\n",
       "   '@log_name': 'docker.92f933aba414'},\n",
       "  'sort': [1601730048000]},\n",
       " {'_index': 'fluentd-20201003',\n",
       "  '_type': '_doc',\n",
       "  '_id': 'lYSM7nQB3NEpW_zy8iSq',\n",
       "  '_score': None,\n",
       "  '_source': {'container_id': '92f933aba41419fdee04312065e7dea182f5febb906aed335d7aa2d01539cb04',\n",
       "   'container_name': '/docker-compose_front-end_1',\n",
       "   'source': 'stdout',\n",
       "   'log': 'Received login request',\n",
       "   '@timestamp': '2020-10-03T13:00:48.000000000+00:00',\n",
       "   '@log_name': 'docker.92f933aba414'},\n",
       "  'sort': [1601730048000]},\n",
       " {'_index': 'fluentd-20201003',\n",
       "  '_type': '_doc',\n",
       "  '_id': 'loSM7nQB3NEpW_zy8iSq',\n",
       "  '_score': None,\n",
       "  '_source': {'container_id': '92f933aba41419fdee04312065e7dea182f5febb906aed335d7aa2d01539cb04',\n",
       "   'container_name': '/docker-compose_front-end_1',\n",
       "   'source': 'stdout',\n",
       "   'log': '{\"user\":{\"firstName\":\"User\",\"lastName\":\"Name\",\"username\":\"user\",\"id\":\"57a98d98e4b00679b4a830b2\",\"_links\":{\"addresses\":{\"href\":\"http://user/customers/57a98d98e4b00679b4a830b2/addresses\"},\"cards\":{\"href\":\"http://user/customers/57a98d98e4b00679b4a830b2/cards\"},\"customer\":{\"href\":\"http://user/customers/57a98d98e4b00679b4a830b2\"},\"self\":{\"href\":\"http://user/customers/57a98d98e4b00679b4a830b2\"}}}}',\n",
       "   '@timestamp': '2020-10-03T13:00:48.000000000+00:00',\n",
       "   '@log_name': 'docker.92f933aba414'},\n",
       "  'sort': [1601730048000]},\n",
       " {'_index': 'fluentd-20201003',\n",
       "  '_type': '_doc',\n",
       "  '_id': 'l4SM7nQB3NEpW_zy8iSq',\n",
       "  '_score': None,\n",
       "  '_source': {'container_id': '92f933aba41419fdee04312065e7dea182f5febb906aed335d7aa2d01539cb04',\n",
       "   'container_name': '/docker-compose_front-end_1',\n",
       "   'source': 'stdout',\n",
       "   'log': '',\n",
       "   '@timestamp': '2020-10-03T13:00:48.000000000+00:00',\n",
       "   '@log_name': 'docker.92f933aba414'},\n",
       "  'sort': [1601730048000]},\n",
       " {'_index': 'fluentd-20201003',\n",
       "  '_type': '_doc',\n",
       "  '_id': 'mISM7nQB3NEpW_zy8iSq',\n",
       "  '_score': None,\n",
       "  '_source': {'source': 'stdout',\n",
       "   'log': '57a98d98e4b00679b4a830b2',\n",
       "   'container_id': '92f933aba41419fdee04312065e7dea182f5febb906aed335d7aa2d01539cb04',\n",
       "   'container_name': '/docker-compose_front-end_1',\n",
       "   '@timestamp': '2020-10-03T13:00:48.000000000+00:00',\n",
       "   '@log_name': 'docker.92f933aba414'},\n",
       "  'sort': [1601730048000]},\n",
       " {'_index': 'fluentd-20201003',\n",
       "  '_type': '_doc',\n",
       "  '_id': 'mYSM7nQB3NEpW_zy8iSq',\n",
       "  '_score': None,\n",
       "  '_source': {'container_id': '92f933aba41419fdee04312065e7dea182f5febb906aed335d7aa2d01539cb04',\n",
       "   'container_name': '/docker-compose_front-end_1',\n",
       "   'source': 'stdout',\n",
       "   'log': 'Merging carts for customer id: 57a98d98e4b00679b4a830b2 and session id: H__46Xjdoeh4bTSRNwq-5DkmWKt0QPf8',\n",
       "   '@timestamp': '2020-10-03T13:00:48.000000000+00:00',\n",
       "   '@log_name': 'docker.92f933aba414'},\n",
       "  'sort': [1601730048000]},\n",
       " {'_index': 'fluentd-20201003',\n",
       "  '_type': '_doc',\n",
       "  '_id': 'moSM7nQB3NEpW_zy8iSq',\n",
       "  '_score': None,\n",
       "  '_source': {'container_id': '92f933aba41419fdee04312065e7dea182f5febb906aed335d7aa2d01539cb04',\n",
       "   'container_name': '/docker-compose_front-end_1',\n",
       "   'source': 'stdout',\n",
       "   'log': 'Carts merged.',\n",
       "   '@timestamp': '2020-10-03T13:00:48.000000000+00:00',\n",
       "   '@log_name': 'docker.92f933aba414'},\n",
       "  'sort': [1601730048000]}]"
      ]
     },
     "execution_count": 13,
     "metadata": {},
     "output_type": "execute_result"
    }
   ],
   "source": [
    "response[\"hits\"][\"hits\"]"
   ]
  },
  {
   "cell_type": "code",
   "execution_count": 29,
   "metadata": {},
   "outputs": [],
   "source": [
    "def getTuplesAndNames(response):\n",
    "    response = response[\"hits\"][\"hits\"]\n",
    "    columnNames = sorted(response[0][\"_source\"])\n",
    "    tuples = []\n",
    "    for res in response:\n",
    "        values = []\n",
    "\n",
    "        for k in sorted(res[\"_source\"]):\n",
    "            values.append(res[\"_source\"][k])\n",
    "        tuples.append(tuple(values))\n",
    "    \n",
    "    return columnNames, tuples"
   ]
  },
  {
   "cell_type": "code",
   "execution_count": 33,
   "metadata": {},
   "outputs": [
    {
     "data": {
      "text/plain": [
       "[('docker.92f933aba414',\n",
       "  '2020-10-03T13:00:48.000000000+00:00',\n",
       "  '92f933aba41419fdee04312065e7dea182f5febb906aed335d7aa2d01539cb04',\n",
       "  '/docker-compose_front-end_1',\n",
       "  '\\x1b[0mGET /catalogue \\x1b[32m200 \\x1b[0m4.289 ms - -\\x1b[0m',\n",
       "  'stdout'),\n",
       " ('docker.92f933aba414',\n",
       "  '2020-10-03T13:00:48.000000000+00:00',\n",
       "  '92f933aba41419fdee04312065e7dea182f5febb906aed335d7aa2d01539cb04',\n",
       "  '/docker-compose_front-end_1',\n",
       "  'Order response: {\"statusCode\":201,\"body\":{\"id\":\"5f787600c4147900078921ab\",\"customerId\":\"57a98d98e4b00679b4a830b2\",\"customer\":{\"id\":null,\"firstName\":\"User\",\"lastName\":\"Name\",\"username\":\"user\",\"addresses\":[],\"cards\":[]},\"address\":{\"id\":null,\"number\":\"246\",\"street\":\"Whitelees Road\",\"city\":\"Glasgow\",\"postcode\":\"G67 3DL\",\"country\":\"United Kingdom\"},\"card\":{\"id\":null,\"longNum\":\"5544154011345918\",\"expires\":\"08/19\",\"ccv\":\"958\"},\"items\":[{\"id\":\"5f7875ff471afa0006a1efde\",\"itemId\":\"zzz4f044-b040-410d-8ead-4de0446aec7e\",\"quantity\":1,\"unitPrice\":12}],\"shipment\":{\"id\":\"b35d9794-0700-4a79-b91b-e4f3a023eb71\",\"name\":\"57a98d98e4b00679b4a830b2\"},\"date\":\"2020-10-03T13:00:48.018+0000\",\"total\":16.99},\"headers\":{\"x-application-context\":\"orders:80\",\"content-type\":\"application/json;charset=UTF-8\",\"transfer-encoding\":\"chunked\",\"date\":\"Sat, 03 Oct 2020 13:00:47 GMT\",\"connection\":\"close\"},\"request\":{\"uri\":{\"protocol\":\"http:\",\"slashes\":true,\"auth\":null,\"host\":\"orders\",\"port\":80,\"hostname\":\"orders\",\"hash\":null,\"search\":null,\"query\":null,\"pathname\":\"/orders\",\"path\":\"/orders\",\"href\":\"http://orders/orders\"},\"method\":\"POST\",\"headers\":{\"accept\":\"application/json\",\"content-type\":\"application/json\",\"content-length\":232}}}',\n",
       "  'stdout'),\n",
       " ('docker.92f933aba414',\n",
       "  '2020-10-03T13:00:48.000000000+00:00',\n",
       "  '92f933aba41419fdee04312065e7dea182f5febb906aed335d7aa2d01539cb04',\n",
       "  '/docker-compose_front-end_1',\n",
       "  'Order response: {\"id\":\"5f787600c4147900078921ab\",\"customerId\":\"57a98d98e4b00679b4a830b2\",\"customer\":{\"id\":null,\"firstName\":\"User\",\"lastName\":\"Name\",\"username\":\"user\",\"addresses\":[],\"cards\":[]},\"address\":{\"id\":null,\"number\":\"246\",\"street\":\"Whitelees Road\",\"city\":\"Glasgow\",\"postcode\":\"G67 3DL\",\"country\":\"United Kingdom\"},\"card\":{\"id\":null,\"longNum\":\"5544154011345918\",\"expires\":\"08/19\",\"ccv\":\"958\"},\"items\":[{\"id\":\"5f7875ff471afa0006a1efde\",\"itemId\":\"zzz4f044-b040-410d-8ead-4de0446aec7e\",\"quantity\":1,\"unitPrice\":12}],\"shipment\":{\"id\":\"b35d9794-0700-4a79-b91b-e4f3a023eb71\",\"name\":\"57a98d98e4b00679b4a830b2\"},\"date\":\"2020-10-03T13:00:48.018+0000\",\"total\":16.99}',\n",
       "  'stdout'),\n",
       " ('docker.92f933aba414',\n",
       "  '2020-10-03T13:00:48.000000000+00:00',\n",
       "  '92f933aba41419fdee04312065e7dea182f5febb906aed335d7aa2d01539cb04',\n",
       "  '/docker-compose_front-end_1',\n",
       "  '\\x1b[0mPOST /orders \\x1b[32m201 \\x1b[0m48.628 ms - -\\x1b[0m',\n",
       "  'stdout'),\n",
       " ('docker.92f933aba414',\n",
       "  '2020-10-03T13:00:48.000000000+00:00',\n",
       "  '92f933aba41419fdee04312065e7dea182f5febb906aed335d7aa2d01539cb04',\n",
       "  '/docker-compose_front-end_1',\n",
       "  'Received login request',\n",
       "  'stdout'),\n",
       " ('docker.92f933aba414',\n",
       "  '2020-10-03T13:00:48.000000000+00:00',\n",
       "  '92f933aba41419fdee04312065e7dea182f5febb906aed335d7aa2d01539cb04',\n",
       "  '/docker-compose_front-end_1',\n",
       "  '{\"user\":{\"firstName\":\"User\",\"lastName\":\"Name\",\"username\":\"user\",\"id\":\"57a98d98e4b00679b4a830b2\",\"_links\":{\"addresses\":{\"href\":\"http://user/customers/57a98d98e4b00679b4a830b2/addresses\"},\"cards\":{\"href\":\"http://user/customers/57a98d98e4b00679b4a830b2/cards\"},\"customer\":{\"href\":\"http://user/customers/57a98d98e4b00679b4a830b2\"},\"self\":{\"href\":\"http://user/customers/57a98d98e4b00679b4a830b2\"}}}}',\n",
       "  'stdout'),\n",
       " ('docker.92f933aba414',\n",
       "  '2020-10-03T13:00:48.000000000+00:00',\n",
       "  '92f933aba41419fdee04312065e7dea182f5febb906aed335d7aa2d01539cb04',\n",
       "  '/docker-compose_front-end_1',\n",
       "  '',\n",
       "  'stdout'),\n",
       " ('docker.92f933aba414',\n",
       "  '2020-10-03T13:00:48.000000000+00:00',\n",
       "  '92f933aba41419fdee04312065e7dea182f5febb906aed335d7aa2d01539cb04',\n",
       "  '/docker-compose_front-end_1',\n",
       "  '57a98d98e4b00679b4a830b2',\n",
       "  'stdout'),\n",
       " ('docker.92f933aba414',\n",
       "  '2020-10-03T13:00:48.000000000+00:00',\n",
       "  '92f933aba41419fdee04312065e7dea182f5febb906aed335d7aa2d01539cb04',\n",
       "  '/docker-compose_front-end_1',\n",
       "  'Merging carts for customer id: 57a98d98e4b00679b4a830b2 and session id: H__46Xjdoeh4bTSRNwq-5DkmWKt0QPf8',\n",
       "  'stdout'),\n",
       " ('docker.92f933aba414',\n",
       "  '2020-10-03T13:00:48.000000000+00:00',\n",
       "  '92f933aba41419fdee04312065e7dea182f5febb906aed335d7aa2d01539cb04',\n",
       "  '/docker-compose_front-end_1',\n",
       "  'Carts merged.',\n",
       "  'stdout')]"
      ]
     },
     "execution_count": 33,
     "metadata": {},
     "output_type": "execute_result"
    }
   ],
   "source": [
    "# dar sort pelo \n",
    "columns, toDataframe = getTuplesAndNames(response)\n",
    "# for res in response[\"hits\"][\"hits\"]:\n",
    "#     values = []\n",
    "    \n",
    "#     for k in sorted(res[\"_source\"]):\n",
    "#         values.append(res[\"_source\"][k])\n",
    "#     toDataframe.append(tuple(values))\n",
    "    \n",
    "#     toDataframe.append(list(res[\"_source\"].items()))\n",
    "\n",
    "toDataframe"
   ]
  },
  {
   "cell_type": "code",
   "execution_count": 31,
   "metadata": {},
   "outputs": [
    {
     "data": {
      "text/plain": [
       "['@log_name', '@timestamp', 'container_id', 'container_name', 'log', 'source']"
      ]
     },
     "execution_count": 31,
     "metadata": {},
     "output_type": "execute_result"
    }
   ],
   "source": [
    "columns"
   ]
  },
  {
   "cell_type": "code",
   "execution_count": 34,
   "metadata": {},
   "outputs": [],
   "source": [
    "df = spark2.createDataFrame(toDataframe, columns)"
   ]
  },
  {
   "cell_type": "code",
   "execution_count": null,
   "metadata": {},
   "outputs": [],
   "source": []
  }
 ],
 "metadata": {
  "kernelspec": {
   "display_name": "python36",
   "language": "python",
   "name": "python36"
  },
  "language_info": {
   "codemirror_mode": {
    "name": "ipython",
    "version": 3
   },
   "file_extension": ".py",
   "mimetype": "text/x-python",
   "name": "python",
   "nbconvert_exporter": "python",
   "pygments_lexer": "ipython3",
   "version": "3.6.11"
  }
 },
 "nbformat": 4,
 "nbformat_minor": 4
}
