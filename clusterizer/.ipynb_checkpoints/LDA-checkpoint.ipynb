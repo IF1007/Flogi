{
 "cells": [
  {
   "cell_type": "code",
   "execution_count": 1,
   "metadata": {},
   "outputs": [],
   "source": [
    "from elasticsearch import Elasticsearch\n",
    "import pandas as pd\n",
    "import numpy as np\n",
    "import seaborn as sns\n",
    "from sklearn.feature_extraction.text import CountVectorizer\n",
    "from sklearn.decomposition import LatentDirichletAllocation as LDA\n",
    "import matplotlib.pyplot as plt\n",
    "import pyLDAvis\n",
    "import warnings\n",
    "warnings.filterwarnings(\"ignore\", category=DeprecationWarning) "
   ]
  },
  {
   "cell_type": "code",
   "execution_count": 2,
   "metadata": {},
   "outputs": [],
   "source": [
    "es = Elasticsearch(['elasticsearch:9200'])"
   ]
  },
  {
   "cell_type": "code",
   "execution_count": 8,
   "metadata": {},
   "outputs": [],
   "source": [
    "try:\n",
    "    fluentdIndex = list(es.indices.get_alias(\"fluentd-*\").keys())[0]\n",
    "except:\n",
    "    print(\"Please, run any container with Fluentd as the log driver first\")"
   ]
  },
  {
   "cell_type": "code",
   "execution_count": 9,
   "metadata": {},
   "outputs": [],
   "source": [
    "n = 10\n",
    "body = {\n",
    "  \"query\": {\n",
    "    \"match_all\": {}\n",
    "  },\n",
    "  \"size\": n,\n",
    "  \"sort\": [\n",
    "    {\n",
    "      \"@timestamp\": {\n",
    "        \"order\": \"desc\"\n",
    "      }\n",
    "    }\n",
    "  ]\n",
    "}\n",
    "\n",
    "\n",
    "response = es.search(index=fluentdIndex, body=body)"
   ]
  },
  {
   "cell_type": "code",
   "execution_count": 10,
   "metadata": {},
   "outputs": [],
   "source": [
    "fields = {}\n",
    "for num, doc in enumerate(response[\"hits\"][\"hits\"]):\n",
    "    source_data = doc[\"_source\"]\n",
    "    for key, val in source_data.items():\n",
    "        try:\n",
    "            fields[key] = np.append(fields[key], val)\n",
    "        except KeyError:\n",
    "            fields[key] = np.array([val])"
   ]
  },
  {
   "cell_type": "code",
   "execution_count": 11,
   "metadata": {},
   "outputs": [
    {
     "data": {
      "text/html": [
       "<div>\n",
       "<style scoped>\n",
       "    .dataframe tbody tr th:only-of-type {\n",
       "        vertical-align: middle;\n",
       "    }\n",
       "\n",
       "    .dataframe tbody tr th {\n",
       "        vertical-align: top;\n",
       "    }\n",
       "\n",
       "    .dataframe thead th {\n",
       "        text-align: right;\n",
       "    }\n",
       "</style>\n",
       "<table border=\"1\" class=\"dataframe\">\n",
       "  <thead>\n",
       "    <tr style=\"text-align: right;\">\n",
       "      <th></th>\n",
       "      <th>source</th>\n",
       "      <th>log</th>\n",
       "      <th>container_id</th>\n",
       "      <th>container_name</th>\n",
       "      <th>@timestamp</th>\n",
       "      <th>@log_name</th>\n",
       "    </tr>\n",
       "  </thead>\n",
       "  <tbody>\n",
       "    <tr>\n",
       "      <th>0</th>\n",
       "      <td>stderr</td>\n",
       "      <td>ts=2020-10-08T20:47:33Z caller=logging.go:29 m...</td>\n",
       "      <td>5e263eb0aec4cecb6b198de0024522ec38ee6072ff5559...</td>\n",
       "      <td>/docker-compose_payment_1</td>\n",
       "      <td>2020-10-08T20:47:33.000000000+00:00</td>\n",
       "      <td>docker.5e263eb0aec4</td>\n",
       "    </tr>\n",
       "    <tr>\n",
       "      <th>1</th>\n",
       "      <td>stderr</td>\n",
       "      <td>ts=2020-10-08T20:47:33Z caller=logging.go:29 m...</td>\n",
       "      <td>5e263eb0aec4cecb6b198de0024522ec38ee6072ff5559...</td>\n",
       "      <td>/docker-compose_payment_1</td>\n",
       "      <td>2020-10-08T20:47:33.000000000+00:00</td>\n",
       "      <td>docker.5e263eb0aec4</td>\n",
       "    </tr>\n",
       "    <tr>\n",
       "      <th>2</th>\n",
       "      <td>stdout</td>\n",
       "      <td>Attempting to delete cart for user: 57a98d98e4...</td>\n",
       "      <td>b5478ce2f915113837c99c06bd494056f4f41f6cb195fa...</td>\n",
       "      <td>/docker-compose_front-end_1</td>\n",
       "      <td>2020-10-08T20:47:33.000000000+00:00</td>\n",
       "      <td>docker.b5478ce2f915</td>\n",
       "    </tr>\n",
       "    <tr>\n",
       "      <th>3</th>\n",
       "      <td>stdout</td>\n",
       "      <td>User cart deleted with status: 202</td>\n",
       "      <td>b5478ce2f915113837c99c06bd494056f4f41f6cb195fa...</td>\n",
       "      <td>/docker-compose_front-end_1</td>\n",
       "      <td>2020-10-08T20:47:33.000000000+00:00</td>\n",
       "      <td>docker.b5478ce2f915</td>\n",
       "    </tr>\n",
       "    <tr>\n",
       "      <th>4</th>\n",
       "      <td>stdout</td>\n",
       "      <td>\u001b[0mDELETE /cart \u001b[32m202 \u001b[0m6.382 ms - -\u001b[0m</td>\n",
       "      <td>b5478ce2f915113837c99c06bd494056f4f41f6cb195fa...</td>\n",
       "      <td>/docker-compose_front-end_1</td>\n",
       "      <td>2020-10-08T20:47:33.000000000+00:00</td>\n",
       "      <td>docker.b5478ce2f915</td>\n",
       "    </tr>\n",
       "  </tbody>\n",
       "</table>\n",
       "</div>"
      ],
      "text/plain": [
       "   source                                                log  \\\n",
       "0  stderr  ts=2020-10-08T20:47:33Z caller=logging.go:29 m...   \n",
       "1  stderr  ts=2020-10-08T20:47:33Z caller=logging.go:29 m...   \n",
       "2  stdout  Attempting to delete cart for user: 57a98d98e4...   \n",
       "3  stdout                 User cart deleted with status: 202   \n",
       "4  stdout     \u001b[0mDELETE /cart \u001b[32m202 \u001b[0m6.382 ms - -\u001b[0m   \n",
       "\n",
       "                                        container_id  \\\n",
       "0  5e263eb0aec4cecb6b198de0024522ec38ee6072ff5559...   \n",
       "1  5e263eb0aec4cecb6b198de0024522ec38ee6072ff5559...   \n",
       "2  b5478ce2f915113837c99c06bd494056f4f41f6cb195fa...   \n",
       "3  b5478ce2f915113837c99c06bd494056f4f41f6cb195fa...   \n",
       "4  b5478ce2f915113837c99c06bd494056f4f41f6cb195fa...   \n",
       "\n",
       "                container_name                           @timestamp  \\\n",
       "0    /docker-compose_payment_1  2020-10-08T20:47:33.000000000+00:00   \n",
       "1    /docker-compose_payment_1  2020-10-08T20:47:33.000000000+00:00   \n",
       "2  /docker-compose_front-end_1  2020-10-08T20:47:33.000000000+00:00   \n",
       "3  /docker-compose_front-end_1  2020-10-08T20:47:33.000000000+00:00   \n",
       "4  /docker-compose_front-end_1  2020-10-08T20:47:33.000000000+00:00   \n",
       "\n",
       "             @log_name  \n",
       "0  docker.5e263eb0aec4  \n",
       "1  docker.5e263eb0aec4  \n",
       "2  docker.b5478ce2f915  \n",
       "3  docker.b5478ce2f915  \n",
       "4  docker.b5478ce2f915  "
      ]
     },
     "execution_count": 11,
     "metadata": {},
     "output_type": "execute_result"
    }
   ],
   "source": [
    "elastic_df = pd.DataFrame(fields)\n",
    "elastic_df.head()"
   ]
  },
  {
   "cell_type": "code",
   "execution_count": 12,
   "metadata": {},
   "outputs": [],
   "source": [
    "elastic_df.to_csv('elastic.csv', index=False)"
   ]
  },
  {
   "cell_type": "code",
   "execution_count": 13,
   "metadata": {},
   "outputs": [],
   "source": [
    "elastic_df = pd.read_csv('elastic.csv')"
   ]
  },
  {
   "cell_type": "code",
   "execution_count": 15,
   "metadata": {},
   "outputs": [],
   "source": [
    "elastic_df = elastic_df.drop(columns=['container_id', '@log_name'])"
   ]
  },
  {
   "cell_type": "code",
   "execution_count": null,
   "metadata": {},
   "outputs": [],
   "source": []
  },
  {
   "cell_type": "code",
   "execution_count": null,
   "metadata": {},
   "outputs": [],
   "source": []
  }
 ],
 "metadata": {
  "kernelspec": {
   "display_name": "Python 3",
   "language": "python",
   "name": "python3"
  },
  "language_info": {
   "codemirror_mode": {
    "name": "ipython",
    "version": 3
   },
   "file_extension": ".py",
   "mimetype": "text/x-python",
   "name": "python",
   "nbconvert_exporter": "python",
   "pygments_lexer": "ipython3",
   "version": "3.8.5"
  }
 },
 "nbformat": 4,
 "nbformat_minor": 4
}
